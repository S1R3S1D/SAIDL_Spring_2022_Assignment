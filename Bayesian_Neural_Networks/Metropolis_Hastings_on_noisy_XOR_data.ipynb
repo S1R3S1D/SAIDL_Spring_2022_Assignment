{
  "nbformat": 4,
  "nbformat_minor": 0,
  "metadata": {
    "colab": {
      "name": "Metropolis_Hastings_on_noisy-XOR_data.ipynb",
      "provenance": [],
      "collapsed_sections": [],
      "authorship_tag": "ABX9TyOAHkRPzFMbAnS9u/yNkgMe",
      "include_colab_link": true
    },
    "kernelspec": {
      "name": "python3",
      "display_name": "Python 3"
    },
    "language_info": {
      "name": "python"
    }
  },
  "cells": [
    {
      "cell_type": "markdown",
      "metadata": {
        "id": "view-in-github",
        "colab_type": "text"
      },
      "source": [
        "<a href=\"https://colab.research.google.com/github/S1R3S1D/SAIDL_Spring_2022_Assignment/blob/main/Bayesian_Neural_Networks/Metropolis_Hastings_on_noisy_XOR_data.ipynb\" target=\"_parent\"><img src=\"https://colab.research.google.com/assets/colab-badge.svg\" alt=\"Open In Colab\"/></a>"
      ]
    },
    {
      "cell_type": "code",
      "source": [
        "#Delete any folder with the same name\n",
        "!rm -rf SAIDL_Spring_2022_Assignment"
      ],
      "metadata": {
        "id": "IRP3BCtDhb9N"
      },
      "execution_count": null,
      "outputs": []
    },
    {
      "cell_type": "code",
      "execution_count": null,
      "metadata": {
        "colab": {
          "base_uri": "https://localhost:8080/"
        },
        "id": "cuc-rKVjcXY_",
        "outputId": "2d74c8c3-4a32-4d54-838a-1235bedcf490"
      },
      "outputs": [
        {
          "output_type": "stream",
          "name": "stdout",
          "text": [
            "Cloning into 'SAIDL_Spring_2022_Assignment'...\n",
            "remote: Enumerating objects: 66, done.\u001b[K\n",
            "remote: Counting objects:   1% (1/66)\u001b[K\rremote: Counting objects:   3% (2/66)\u001b[K\rremote: Counting objects:   4% (3/66)\u001b[K\rremote: Counting objects:   6% (4/66)\u001b[K\rremote: Counting objects:   7% (5/66)\u001b[K\rremote: Counting objects:   9% (6/66)\u001b[K\rremote: Counting objects:  10% (7/66)\u001b[K\rremote: Counting objects:  12% (8/66)\u001b[K\rremote: Counting objects:  13% (9/66)\u001b[K\rremote: Counting objects:  15% (10/66)\u001b[K\rremote: Counting objects:  16% (11/66)\u001b[K\rremote: Counting objects:  18% (12/66)\u001b[K\rremote: Counting objects:  19% (13/66)\u001b[K\rremote: Counting objects:  21% (14/66)\u001b[K\rremote: Counting objects:  22% (15/66)\u001b[K\rremote: Counting objects:  24% (16/66)\u001b[K\rremote: Counting objects:  25% (17/66)\u001b[K\rremote: Counting objects:  27% (18/66)\u001b[K\rremote: Counting objects:  28% (19/66)\u001b[K\rremote: Counting objects:  30% (20/66)\u001b[K\rremote: Counting objects:  31% (21/66)\u001b[K\rremote: Counting objects:  33% (22/66)\u001b[K\rremote: Counting objects:  34% (23/66)\u001b[K\rremote: Counting objects:  36% (24/66)\u001b[K\rremote: Counting objects:  37% (25/66)\u001b[K\rremote: Counting objects:  39% (26/66)\u001b[K\rremote: Counting objects:  40% (27/66)\u001b[K\rremote: Counting objects:  42% (28/66)\u001b[K\rremote: Counting objects:  43% (29/66)\u001b[K\rremote: Counting objects:  45% (30/66)\u001b[K\rremote: Counting objects:  46% (31/66)\u001b[K\rremote: Counting objects:  48% (32/66)\u001b[K\rremote: Counting objects:  50% (33/66)\u001b[K\rremote: Counting objects:  51% (34/66)\u001b[K\rremote: Counting objects:  53% (35/66)\u001b[K\rremote: Counting objects:  54% (36/66)\u001b[K\rremote: Counting objects:  56% (37/66)\u001b[K\rremote: Counting objects:  57% (38/66)\u001b[K\rremote: Counting objects:  59% (39/66)\u001b[K\rremote: Counting objects:  60% (40/66)\u001b[K\rremote: Counting objects:  62% (41/66)\u001b[K\rremote: Counting objects:  63% (42/66)\u001b[K\rremote: Counting objects:  65% (43/66)\u001b[K\rremote: Counting objects:  66% (44/66)\u001b[K\rremote: Counting objects:  68% (45/66)\u001b[K\rremote: Counting objects:  69% (46/66)\u001b[K\rremote: Counting objects:  71% (47/66)\u001b[K\rremote: Counting objects:  72% (48/66)\u001b[K\rremote: Counting objects:  74% (49/66)\u001b[K\rremote: Counting objects:  75% (50/66)\u001b[K\rremote: Counting objects:  77% (51/66)\u001b[K\rremote: Counting objects:  78% (52/66)\u001b[K\rremote: Counting objects:  80% (53/66)\u001b[K\rremote: Counting objects:  81% (54/66)\u001b[K\rremote: Counting objects:  83% (55/66)\u001b[K\rremote: Counting objects:  84% (56/66)\u001b[K\rremote: Counting objects:  86% (57/66)\u001b[K\rremote: Counting objects:  87% (58/66)\u001b[K\rremote: Counting objects:  89% (59/66)\u001b[K\rremote: Counting objects:  90% (60/66)\u001b[K\rremote: Counting objects:  92% (61/66)\u001b[K\rremote: Counting objects:  93% (62/66)\u001b[K\rremote: Counting objects:  95% (63/66)\u001b[K\rremote: Counting objects:  96% (64/66)\u001b[K\rremote: Counting objects:  98% (65/66)\u001b[K\rremote: Counting objects: 100% (66/66)\u001b[K\rremote: Counting objects: 100% (66/66), done.\u001b[K\n",
            "remote: Compressing objects:   1% (1/60)\u001b[K\rremote: Compressing objects:   3% (2/60)\u001b[K\rremote: Compressing objects:   5% (3/60)\u001b[K\rremote: Compressing objects:   6% (4/60)\u001b[K\rremote: Compressing objects:   8% (5/60)\u001b[K\rremote: Compressing objects:  10% (6/60)\u001b[K\rremote: Compressing objects:  11% (7/60)\u001b[K\rremote: Compressing objects:  13% (8/60)\u001b[K\rremote: Compressing objects:  15% (9/60)\u001b[K\rremote: Compressing objects:  16% (10/60)\u001b[K\rremote: Compressing objects:  18% (11/60)\u001b[K\rremote: Compressing objects:  20% (12/60)\u001b[K\rremote: Compressing objects:  21% (13/60)\u001b[K\rremote: Compressing objects:  23% (14/60)\u001b[K\rremote: Compressing objects:  25% (15/60)\u001b[K\rremote: Compressing objects:  26% (16/60)\u001b[K\rremote: Compressing objects:  28% (17/60)\u001b[K\rremote: Compressing objects:  30% (18/60)\u001b[K\rremote: Compressing objects:  31% (19/60)\u001b[K\rremote: Compressing objects:  33% (20/60)\u001b[K\rremote: Compressing objects:  35% (21/60)\u001b[K\rremote: Compressing objects:  36% (22/60)\u001b[K\rremote: Compressing objects:  38% (23/60)\u001b[K\rremote: Compressing objects:  40% (24/60)\u001b[K\rremote: Compressing objects:  41% (25/60)\u001b[K\rremote: Compressing objects:  43% (26/60)\u001b[K\rremote: Compressing objects:  45% (27/60)\u001b[K\rremote: Compressing objects:  46% (28/60)\u001b[K\rremote: Compressing objects:  48% (29/60)\u001b[K\rremote: Compressing objects:  50% (30/60)\u001b[K\rremote: Compressing objects:  51% (31/60)\u001b[K\rremote: Compressing objects:  53% (32/60)\u001b[K\rremote: Compressing objects:  55% (33/60)\u001b[K\rremote: Compressing objects:  56% (34/60)\u001b[K\rremote: Compressing objects:  58% (35/60)\u001b[K\rremote: Compressing objects:  60% (36/60)\u001b[K\rremote: Compressing objects:  61% (37/60)\u001b[K\rremote: Compressing objects:  63% (38/60)\u001b[K\rremote: Compressing objects:  65% (39/60)\u001b[K\rremote: Compressing objects:  66% (40/60)\u001b[K\rremote: Compressing objects:  68% (41/60)\u001b[K\rremote: Compressing objects:  70% (42/60)\u001b[K\rremote: Compressing objects:  71% (43/60)\u001b[K\rremote: Compressing objects:  73% (44/60)\u001b[K\rremote: Compressing objects:  75% (45/60)\u001b[K\rremote: Compressing objects:  76% (46/60)\u001b[K\rremote: Compressing objects:  78% (47/60)\u001b[K\rremote: Compressing objects:  80% (48/60)\u001b[K\rremote: Compressing objects:  81% (49/60)\u001b[K\rremote: Compressing objects:  83% (50/60)\u001b[K\rremote: Compressing objects:  85% (51/60)\u001b[K\rremote: Compressing objects:  86% (52/60)\u001b[K\rremote: Compressing objects:  88% (53/60)\u001b[K\rremote: Compressing objects:  90% (54/60)\u001b[K\rremote: Compressing objects:  91% (55/60)\u001b[K\rremote: Compressing objects:  93% (56/60)\u001b[K\rremote: Compressing objects:  95% (57/60)\u001b[K\rremote: Compressing objects:  96% (58/60)\u001b[K\rremote: Compressing objects:  98% (59/60)\u001b[K\rremote: Compressing objects: 100% (60/60)\u001b[K\rremote: Compressing objects: 100% (60/60), done.\u001b[K\n",
            "Unpacking objects:   1% (1/66)   \rUnpacking objects:   3% (2/66)   \rUnpacking objects:   4% (3/66)   \rUnpacking objects:   6% (4/66)   \rUnpacking objects:   7% (5/66)   \rUnpacking objects:   9% (6/66)   \rUnpacking objects:  10% (7/66)   \rUnpacking objects:  12% (8/66)   \rUnpacking objects:  13% (9/66)   \rUnpacking objects:  15% (10/66)   \rUnpacking objects:  16% (11/66)   \rUnpacking objects:  18% (12/66)   \rUnpacking objects:  19% (13/66)   \rUnpacking objects:  21% (14/66)   \rUnpacking objects:  22% (15/66)   \rUnpacking objects:  24% (16/66)   \rUnpacking objects:  25% (17/66)   \rUnpacking objects:  27% (18/66)   \rUnpacking objects:  28% (19/66)   \rUnpacking objects:  30% (20/66)   \rUnpacking objects:  31% (21/66)   \rUnpacking objects:  33% (22/66)   \rremote: Total 66 (delta 17), reused 0 (delta 0), pack-reused 0\u001b[K\n",
            "Unpacking objects:  34% (23/66)   \rUnpacking objects:  36% (24/66)   \rUnpacking objects:  37% (25/66)   \rUnpacking objects:  39% (26/66)   \rUnpacking objects:  40% (27/66)   \rUnpacking objects:  42% (28/66)   \rUnpacking objects:  43% (29/66)   \rUnpacking objects:  45% (30/66)   \rUnpacking objects:  46% (31/66)   \rUnpacking objects:  48% (32/66)   \rUnpacking objects:  50% (33/66)   \rUnpacking objects:  51% (34/66)   \rUnpacking objects:  53% (35/66)   \rUnpacking objects:  54% (36/66)   \rUnpacking objects:  56% (37/66)   \rUnpacking objects:  57% (38/66)   \rUnpacking objects:  59% (39/66)   \rUnpacking objects:  60% (40/66)   \rUnpacking objects:  62% (41/66)   \rUnpacking objects:  63% (42/66)   \rUnpacking objects:  65% (43/66)   \rUnpacking objects:  66% (44/66)   \rUnpacking objects:  68% (45/66)   \rUnpacking objects:  69% (46/66)   \rUnpacking objects:  71% (47/66)   \rUnpacking objects:  72% (48/66)   \rUnpacking objects:  74% (49/66)   \rUnpacking objects:  75% (50/66)   \rUnpacking objects:  77% (51/66)   \rUnpacking objects:  78% (52/66)   \rUnpacking objects:  80% (53/66)   \rUnpacking objects:  81% (54/66)   \rUnpacking objects:  83% (55/66)   \rUnpacking objects:  84% (56/66)   \rUnpacking objects:  86% (57/66)   \rUnpacking objects:  87% (58/66)   \rUnpacking objects:  89% (59/66)   \rUnpacking objects:  90% (60/66)   \rUnpacking objects:  92% (61/66)   \rUnpacking objects:  93% (62/66)   \rUnpacking objects:  95% (63/66)   \rUnpacking objects:  96% (64/66)   \rUnpacking objects:  98% (65/66)   \rUnpacking objects: 100% (66/66)   \rUnpacking objects: 100% (66/66), done.\n"
          ]
        }
      ],
      "source": [
        "#Cloning the repo into the local machine\n",
        "!git clone https://github.com/S1R3S1D/SAIDL_Spring_2022_Assignment.git"
      ]
    },
    {
      "cell_type": "code",
      "source": [
        "#Importing all dependencies\n",
        "import numpy as np\n",
        "import pandas as pd\n",
        "import matplotlib.pyplot as plt\n",
        "import sys\n",
        "import random\n",
        "import math\n",
        "\n",
        "sys.path.insert(1, '/content/SAIDL_Spring_2022_Assignment/Bayesian_Neural_Networks')\n",
        "\n",
        "#Importing all functions from files\n",
        "from Helper_Functions import *\n",
        "from Modelling import *\n",
        "from MCMC_Algorithms import *"
      ],
      "metadata": {
        "id": "jx85_fClclVx"
      },
      "execution_count": null,
      "outputs": []
    },
    {
      "cell_type": "code",
      "source": [
        "#Getting the training and testing data\n",
        "(X_train, Y_train) = data_retriever('/content/SAIDL_Spring_2022_Assignment/Bayesian_Neural_Networks/data/XOR_train_data')\n",
        "(X_test, Y_test) = data_retriever('/content/SAIDL_Spring_2022_Assignment/Bayesian_Neural_Networks/data/XOR_test_data')"
      ],
      "metadata": {
        "id": "f43H_qrjctYF"
      },
      "execution_count": null,
      "outputs": []
    },
    {
      "cell_type": "code",
      "source": [
        "#Retrieving the samples\n",
        "(a, r) = NN_MCMC_MH(10000, [2, [4], 2], X_train, Y_train)"
      ],
      "metadata": {
        "colab": {
          "base_uri": "https://localhost:8080/"
        },
        "id": "r5KJGBzYc9CN",
        "outputId": "a2bf15ff-54d0-4f19-afcd-788848adc5ce"
      },
      "execution_count": null,
      "outputs": [
        {
          "output_type": "stream",
          "name": "stderr",
          "text": [
            "100%|██████████| 10000/10000 [10:02<00:00, 16.61it/s]\n"
          ]
        }
      ]
    },
    {
      "cell_type": "code",
      "source": [
        "#Testing the models and finding maximum accuracy\n",
        "max_acc = 0\n",
        "index = None\n",
        "for j in range(len(a)):\n",
        "  acc = 0\n",
        "  parameters = a[j]\n",
        "  for i in range(len(X_test)):\n",
        "    val = binary_step(NN_Compute( X_test[i], parameters), 0.5)\n",
        "    if val[0]==Y_test[i][0] and val[1]==Y_test[i][1]:\n",
        "      acc+=1\n",
        "\n",
        "  acc/=len(X_test)\n",
        "  if acc>max_acc:\n",
        "    max_acc = acc\n",
        "    index = j\n",
        "\n",
        "\n",
        "\n",
        "print(\"The maximum Accuracy is \", max_acc*100, \"%\")"
      ],
      "metadata": {
        "colab": {
          "base_uri": "https://localhost:8080/"
        },
        "id": "-haVLISrgJb0",
        "outputId": "76360088-6480-459a-95d4-0388550c1ee1"
      },
      "execution_count": null,
      "outputs": [
        {
          "output_type": "stream",
          "name": "stdout",
          "text": [
            "The maximum Accuracy is  90.66666666666666 %\n"
          ]
        }
      ]
    },
    {
      "cell_type": "code",
      "source": [
        ""
      ],
      "metadata": {
        "id": "5a519Qc1lInq"
      },
      "execution_count": null,
      "outputs": []
    }
  ]
}